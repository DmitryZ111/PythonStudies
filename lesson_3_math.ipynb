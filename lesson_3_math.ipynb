{
 "cells": [
  {
   "cell_type": "code",
   "execution_count": 18,
   "metadata": {},
   "outputs": [
    {
     "name": "stdout",
     "output_type": "stream",
     "text": [
      "1923\n",
      "3.0000000000001137\n",
      "3\n"
     ]
    }
   ],
   "source": [
    "#Дано натуральное число. Выведите его последнюю цифру.\n",
    "\n",
    "import math\n",
    "\n",
    "x=int(input())\n",
    "z=math.floor(x/10)\n",
    "k=(x/10-z)*10ы\n",
    "print(round(k))\n",
    "\n",
    "\n",
    "# а это простое и правильное решение\n",
    "a = int(input())\n",
    "print(a % 10)\n"
   ]
  },
  {
   "cell_type": "code",
   "execution_count": 22,
   "metadata": {},
   "outputs": [
    {
     "name": "stdout",
     "output_type": "stream",
     "text": [
      "10\n",
      "20\n",
      "91\n"
     ]
    }
   ],
   "source": [
    "#Длина Московской кольцевой автомобильной дороги —109 километров. \n",
    "#Байкер Вася стартует с нулевого километра МКАД и едет со скоростью v километров в час. \n",
    "#На какой отметке он остановится через t часов?\n",
    "#Программа получает на вход значение v и t. Если v>0, то Вася движется в положительном \n",
    "#направлении по МКАД, если же значение v<0, то в отрицательном.\n",
    "#Программа должна вывести целое число от 0 до 108 — номер отметки, на которой остановится Вася.\n",
    "\n",
    "v=int(input())\n",
    "t=int(input())\n",
    "\n",
    "if v > 0:\n",
    "    if v*t<109:\n",
    "        print(v * t)\n",
    "    else:\n",
    "        print((v*t) % 109)\n",
    "elif v < 0:\n",
    "    if abs(v)*t<109:\n",
    "        print(109 - (abs(v) * t))\n",
    "    elif (abs(v)*t) % 109 == 0:  #костыль\n",
    "        print(0)\n",
    "    else:\n",
    "        print(109-((abs(v)*t) % 109))\n",
    "else:\n",
    "    print(0)\n",
    "    \n",
    "    \n",
    "# а это простое и правильное решение    \n",
    "a = int(input())\n",
    "b = int(input())\n",
    "print((a * b) % 109)"
   ]
  },
  {
   "cell_type": "code",
   "execution_count": 29,
   "metadata": {},
   "outputs": [
    {
     "name": "stdout",
     "output_type": "stream",
     "text": [
      "2.4\n",
      "0.3999999999999999\n"
     ]
    }
   ],
   "source": [
    "#Дано положительное действительное число X. Выведите его дробную часть.\n",
    "\n",
    "import math\n",
    "\n",
    "x = float(input())\n",
    "y = int(x)\n",
    "z = x-y\n",
    "\n",
    "print(z)"
   ]
  },
  {
   "cell_type": "code",
   "execution_count": 32,
   "metadata": {},
   "outputs": [
    {
     "name": "stdout",
     "output_type": "stream",
     "text": [
      "0.3999999999999999\n"
     ]
    }
   ],
   "source": [
    "x = 2.4\n",
    "print(x%1)"
   ]
  },
  {
   "cell_type": "code",
   "execution_count": 37,
   "metadata": {},
   "outputs": [
    {
     "name": "stdout",
     "output_type": "stream",
     "text": [
      "2.41\n",
      "4\n"
     ]
    }
   ],
   "source": [
    "#Дано положительное действительное число X. Выведите его первую цифру после десятичной точки.\n",
    "\n",
    "import math\n",
    "\n",
    "x = float(input())\n",
    "\n",
    "y = x%1\n",
    "\n",
    "z = y*10\n",
    "\n",
    "print(int(z))\n",
    "\n",
    "# а это простое и правильное решение    \n",
    "\n",
    "\n",
    "r = float(input())\n",
    "print(int(r * 10) % 10)"
   ]
  },
  {
   "cell_type": "code",
   "execution_count": 38,
   "metadata": {},
   "outputs": [
    {
     "name": "stdout",
     "output_type": "stream",
     "text": [
      "2.4\n",
      "4\n"
     ]
    }
   ],
   "source": [
    "x = float(input())\n",
    "print(int(x * 10) % 10)"
   ]
  },
  {
   "cell_type": "code",
   "execution_count": 90,
   "metadata": {},
   "outputs": [
    {
     "name": "stdout",
     "output_type": "stream",
     "text": [
      "1\n",
      "hour: 9\n",
      "minute: 45\n",
      "1\n",
      "9 45\n"
     ]
    }
   ],
   "source": [
    "#В некоторой школе занятия начинаются в 9:00. Продолжительность урока — 45 минут, \n",
    "#после 1-го, 3-го, 5-го и т.д. уроков перемена 5 минут, а после 2-го, 4-го, 6-го и т.д. — 15 минут.\n",
    "#Дан номер урока (число от 1 до 10). Определите, когда заканчивается указанный урок.\n",
    "#Выведите два целых числа: время окончания урока в часах и минутах.\n",
    "\n",
    "#нечетный 45+5\n",
    "#четный 45+15\n",
    "\n",
    "\n",
    "x = int(input())\n",
    "\n",
    "z = x//2 #количество четных уроков\n",
    "y = z+(x%2) #количество нечетных уроков\n",
    "\n",
    "if x%2 == 0:\n",
    "    print(\"hour:\", (9 + (45*x + 5*y + 15*z - 15) // 60))\n",
    "    print(\"minute:\", (45*x + 5*y + 15*z - 15) % 60)\n",
    "else:\n",
    "    print(\"hour:\", (9 + (45*x + 5*y + 15*z - 5) // 60))\n",
    "    print(\"minute:\", (45*x + 5*y + 15*z - 5) % 60)\n",
    "       \n",
    "    \n",
    "# а это простое и правильное решение    \n",
    "\n",
    "a = int(input())\n",
    "a = a*45 + (a//2)*5 + ((a+1)//2-1)*15\n",
    "print(a//60 + 9, a%60)"
   ]
  },
  {
   "cell_type": "code",
   "execution_count": 92,
   "metadata": {},
   "outputs": [
    {
     "name": "stdout",
     "output_type": "stream",
     "text": [
      "1\n",
      "2\n",
      "2\n"
     ]
    }
   ],
   "source": [
    "# За день машина проезжает n километров. Сколько дней нужно, чтобы проехать маршрут длиной m километров? \n",
    "# Программа получает на вход числа n и m.\n",
    "\n",
    "import math\n",
    "n=float(input())\n",
    "m=float(input())\n",
    "\n",
    "print(math.ceil(m/n))"
   ]
  },
  {
   "cell_type": "code",
   "execution_count": 105,
   "metadata": {},
   "outputs": [
    {
     "name": "stdout",
     "output_type": "stream",
     "text": [
      "10\n",
      "15\n",
      "2\n",
      "20 30\n"
     ]
    }
   ],
   "source": [
    "# Пирожок в столовой стоит a рублей и b копеек. Определите, сколько рублей и копеек нужно \n",
    "#заплатить за n пирожков. Программа получает на вход три числа: a, b, n, и должна вывести \n",
    "#два числа: стоимость покупки в рублях и копейках.\n",
    "\n",
    "a = int(input()) #цена, рублей\n",
    "b = int(input()) #цена, копеек\n",
    "n = int(input()) #количество пирожков\n",
    "\n",
    "z = n * (100 * a + b)\n",
    "\n",
    "print(z // 100, z % 100)\n"
   ]
  },
  {
   "cell_type": "code",
   "execution_count": 113,
   "metadata": {},
   "outputs": [
    {
     "name": "stdout",
     "output_type": "stream",
     "text": [
      "1\n",
      "1\n",
      "1\n",
      "2\n",
      "2\n",
      "2\n",
      "прошло 421 секунд\n"
     ]
    }
   ],
   "source": [
    "#Даны значения двух моментов времени, принадлежащих одним и тем же суткам: \n",
    "#часы, минуты и секунды для каждого из моментов времени. Известно, что второй момент времени \n",
    "#наступил не раньше первого. Определите, сколько секунд прошло между двумя моментами времени.\n",
    "#Программа на вход получает три целых числа: часы, минуты, секунды, задающие первый момент \n",
    "#времени и три целых числа, задающих второй момент времени.\n",
    "#Выведите число секунд между этими моментами времени.\n",
    "\n",
    "h1 = int(input())\n",
    "m1 = int(input())\n",
    "s1 = int(input())\n",
    "\n",
    "\n",
    "h2 = int(input())\n",
    "m2 = int(input())\n",
    "s2 = int(input())\n",
    "\n",
    "\n",
    "z = (h2 * 360 + m2 *60 + s2) - (h1 * 360 + m1 *60 + s1)\n",
    "\n",
    "print (\"прошло\", z, \"секунд\")"
   ]
  },
  {
   "cell_type": "code",
   "execution_count": 112,
   "metadata": {},
   "outputs": [
    {
     "name": "stdout",
     "output_type": "stream",
     "text": [
      "10\n",
      "3\n",
      "2\n",
      "10\n",
      "8\n"
     ]
    }
   ],
   "source": [
    "#задача улитка\n",
    "#на какой день доползет до вершины? \n",
    "\n",
    "import math\n",
    "\n",
    "h = int(input()) #высота шеста\n",
    "a = int(input()) #ползет вверх за день\n",
    "b = int(input()) #сползает вниз за ночь\n",
    "\n",
    "t = (h-b) / (a-b)\n",
    "\n",
    "print(math.ceil(t))"
   ]
  },
  {
   "cell_type": "code",
   "execution_count": 128,
   "metadata": {},
   "outputs": [
    {
     "name": "stdout",
     "output_type": "stream",
     "text": [
      "699\n",
      "9\n"
     ]
    }
   ],
   "source": [
    "#Дано натуральное число. Найдите число десятков в его десятичной записи.\n",
    "\n",
    "x = int(input())\n",
    "k = (x/100-int(x/100))*10\n",
    "print(int(k))"
   ]
  },
  {
   "cell_type": "code",
   "execution_count": 143,
   "metadata": {},
   "outputs": [
    {
     "name": "stdout",
     "output_type": "stream",
     "text": [
      "204\n",
      "0.9999999999999858\n",
      "2 0 3\n"
     ]
    }
   ],
   "source": [
    "#Дано трехзначное число. Найдите сумму его цифр.\n",
    "\n",
    "x = int(input())\n",
    "k3= (x/10 - int(x/10))*10\n",
    "k2= (x/100 - int(x/100))*10\n",
    "k1= (x/1000 - int(x/1000))*10\n",
    "\n",
    "print(int(k1), int(k2), int(k3)) #с погрешностями\n"
   ]
  },
  {
   "cell_type": "code",
   "execution_count": 153,
   "metadata": {},
   "outputs": [
    {
     "name": "stdout",
     "output_type": "stream",
     "text": [
      "125\n",
      "digit1 1\n",
      "digit2 2\n",
      "digit3 5\n"
     ]
    }
   ],
   "source": [
    "#Дано трехзначное число. Найдите сумму его цифр.\n",
    "\n",
    "x = int(input())\n",
    "k1= x//100\n",
    "k2= x//10 - k1*10\n",
    "k3= x%10\n",
    "\n",
    "print(\"digit1:\", k1)\n",
    "print(\"digit2:\", k2)\n",
    "print(\"digit3:\", k3)\n",
    "print(\"sum:\", k1+k2+k3)"
   ]
  },
  {
   "cell_type": "code",
   "execution_count": 155,
   "metadata": {},
   "outputs": [
    {
     "name": "stdout",
     "output_type": "stream",
     "text": [
      "3\n",
      "4\n",
      "5.0\n"
     ]
    }
   ],
   "source": [
    "#Дано два числа a и b. Выведите гипотенузу треугольника с заданными катетами.\n",
    "\n",
    "a = int(input())\n",
    "b = int(input())\n",
    "\n",
    "c = (a**2 + b**2)**(1/2)\n",
    "print(c)"
   ]
  },
  {
   "cell_type": "code",
   "execution_count": 157,
   "metadata": {},
   "outputs": [
    {
     "name": "stdout",
     "output_type": "stream",
     "text": [
      "1\n",
      "2\n",
      "3\n",
      "31.025\n"
     ]
    }
   ],
   "source": [
    "#С начала суток прошло H часов, M минут, S секунд (0 ≤ H < 12, 0 ≤ M < 60, 0 ≤ S < 60). \n",
    "#По данным числам H, M, S определите угол (в градусах), на который повернулаcь часовая стрелка \n",
    "#с начала суток и выведите его в виде действительного числа.\n",
    "\n",
    "\n",
    "H, M, S = int(input()), int(input()), int(input())\n",
    "\n",
    "sec = H*3600 + M*60 + S\n",
    "\n",
    "print(sec/120)\n"
   ]
  },
  {
   "cell_type": "code",
   "execution_count": 160,
   "metadata": {},
   "outputs": [
    {
     "name": "stdout",
     "output_type": "stream",
     "text": [
      "234\n",
      "288.0\n"
     ]
    }
   ],
   "source": [
    "#С начала суток часовая стрелка повернулась на угол в α градусов. Определите на какой угол повернулась \n",
    "#минутная стрелка с начала последнего часа. Входные и выходные данные — действительные числа.\n",
    "\n",
    "a = float(input())\n",
    "sec = a * 120\n",
    "M = (sec % 3600)/60\n",
    "degM = M*6\n",
    "print(degM)"
   ]
  },
  {
   "cell_type": "code",
   "execution_count": 161,
   "metadata": {},
   "outputs": [
    {
     "name": "stdout",
     "output_type": "stream",
     "text": [
      "234\n",
      "7 0 24\n"
     ]
    }
   ],
   "source": [
    "#С начала суток часовая стрелка повернулась на угол в α градусов. Определите сколько полных часов, \n",
    "#минут и секунд прошло с начала суток, то есть решите задачу, обратную задаче «Часы - 1». \n",
    "#Запишите ответ в три переменные и выведите их на экран.\n",
    "\n",
    "a = float(input())\n",
    "sec = a * 120\n",
    "H = a // 30\n",
    "M = (a % 30) // 60\n",
    "S = (a % 30) % 60\n",
    "\n",
    "print(int(H), int(M), int(S))\n",
    "\n",
    "\n",
    "\n"
   ]
  },
  {
   "cell_type": "code",
   "execution_count": 174,
   "metadata": {},
   "outputs": [
    {
     "name": "stdout",
     "output_type": "stream",
     "text": [
      "1\n",
      "2\n",
      "3\n",
      "203\n",
      "205.03\n",
      "2 5\n"
     ]
    }
   ],
   "source": [
    "#Процентная ставка по вкладу составляет P процентов годовых, которые прибавляются к сумме вклада. \n",
    "#Вклад составляет X рублей Y копеек. Определите размер вклада через год.\n",
    "#Программа получает на вход целые числа P, X, Y и должна вывести два числа: величину вклада через год в рублях \n",
    "#и копейках. Дробная часть копеек отбрасывается.\n",
    "\n",
    "P, X, Y = int(input()), int(input()), int(input())\n",
    "\n",
    "money_before = X * 100 + Y\n",
    "money_after = money_before * ((P+100)/100)\n",
    "\n",
    "print(int(money_after/100), int(money_after%100))\n"
   ]
  },
  {
   "cell_type": "code",
   "execution_count": null,
   "metadata": {},
   "outputs": [],
   "source": []
  },
  {
   "cell_type": "code",
   "execution_count": null,
   "metadata": {},
   "outputs": [],
   "source": []
  }
 ],
 "metadata": {
  "kernelspec": {
   "display_name": "Python 3",
   "language": "python",
   "name": "python3"
  },
  "language_info": {
   "codemirror_mode": {
    "name": "ipython",
    "version": 3
   },
   "file_extension": ".py",
   "mimetype": "text/x-python",
   "name": "python",
   "nbconvert_exporter": "python",
   "pygments_lexer": "ipython3",
   "version": "3.7.6"
  }
 },
 "nbformat": 4,
 "nbformat_minor": 4
}
