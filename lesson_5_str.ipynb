{
 "cells": [
  {
   "cell_type": "code",
   "execution_count": 2,
   "metadata": {},
   "outputs": [
    {
     "name": "stdout",
     "output_type": "stream",
     "text": [
      "H\n"
     ]
    },
    {
     "ename": "NameError",
     "evalue": "name 'S' is not defined",
     "output_type": "error",
     "traceback": [
      "\u001b[0;31m---------------------------------------------------------------------------\u001b[0m",
      "\u001b[0;31mNameError\u001b[0m                                 Traceback (most recent call last)",
      "\u001b[0;32m<ipython-input-2-eb0fbd2b7e2d>\u001b[0m in \u001b[0;36m<module>\u001b[0;34m\u001b[0m\n\u001b[1;32m      1\u001b[0m \u001b[0;32mfor\u001b[0m \u001b[0mi\u001b[0m \u001b[0;32min\u001b[0m \u001b[0;34m\"HELLO\"\u001b[0m\u001b[0;34m:\u001b[0m\u001b[0;34m\u001b[0m\u001b[0;34m\u001b[0m\u001b[0m\n\u001b[1;32m      2\u001b[0m     \u001b[0mprint\u001b[0m\u001b[0;34m(\u001b[0m\u001b[0mi\u001b[0m\u001b[0;34m)\u001b[0m\u001b[0;34m\u001b[0m\u001b[0;34m\u001b[0m\u001b[0m\n\u001b[0;32m----> 3\u001b[0;31m     \u001b[0mprint\u001b[0m\u001b[0;34m(\u001b[0m\u001b[0mS\u001b[0m\u001b[0;34m[\u001b[0m\u001b[0;36m0\u001b[0m\u001b[0;34m]\u001b[0m\u001b[0;34m)\u001b[0m\u001b[0;34m\u001b[0m\u001b[0;34m\u001b[0m\u001b[0m\n\u001b[0m",
      "\u001b[0;31mNameError\u001b[0m: name 'S' is not defined"
     ]
    }
   ],
   "source": [
    "for i in \"HELLO\":\n",
    "    print(i)\n"
   ]
  },
  {
   "cell_type": "code",
   "execution_count": 13,
   "metadata": {},
   "outputs": [
    {
     "name": "stdout",
     "output_type": "stream",
     "text": [
      "123\n",
      "#1 3\n",
      "#2 2\n",
      "#3 123\n",
      "#4 1\n",
      "#5 13\n",
      "#6 2\n",
      "#7 321\n",
      "#8 31\n",
      "#9 3\n"
     ]
    }
   ],
   "source": [
    "#Дана строка.\n",
    "#1 Сначала выведите третий символ этой строки.\n",
    "#2 Во второй строке выведите предпоследний символ этой строки.\n",
    "#3 В третьей строке выведите первые пять символов этой строки.\n",
    "#4 В четвертой строке выведите всю строку, кроме последних двух символов.\n",
    "#5 В пятой строке выведите все символы с четными индексами (считая, что индексация начинается с 0, поэтому символы выводятся начиная с первого).\n",
    "#6 В шестой строке выведите все символы с нечетными индексами, то есть начиная со второго символа строки.\n",
    "#7 В седьмой строке выведите все символы в обратном порядке.\n",
    "#8 В восьмой строке выведите все символы строки через один в обратном порядке, начиная с последнего.\n",
    "#9 В девятой строке выведите длину данной строки.\n",
    "\n",
    "page = input()\n",
    "\n",
    "print(\"#1\", page[2]) #1\n",
    "print(\"#2\", page[-2]) #2\n",
    "print(\"#3\", page[0:5]) #3\n",
    "print(\"#4\", page[0:-2]) #4\n",
    "print(\"#5\", page[::2]) #5\n",
    "print(\"#6\", page[1::2]) #6\n",
    "print(\"#7\", page[::-1]) #7\n",
    "print(\"#8\", page[::-2]) #8\n",
    "print(\"#9\", len(page)) #9"
   ]
  },
  {
   "cell_type": "code",
   "execution_count": 16,
   "metadata": {},
   "outputs": [
    {
     "name": "stdout",
     "output_type": "stream",
     "text": [
      "1 2\n",
      "2\n"
     ]
    }
   ],
   "source": [
    "#Дана строка, состоящая из слов, разделенных пробелами. Определите, сколько в ней слов. \n",
    "#Используйте для решения задачи метод count.\n",
    "page = input()\n",
    "print((page).count(\" \")+1)"
   ]
  },
  {
   "cell_type": "code",
   "execution_count": 19,
   "metadata": {},
   "outputs": [
    {
     "name": "stdout",
     "output_type": "stream",
     "text": [
      "1234567890\n",
      "6789012345\n"
     ]
    }
   ],
   "source": [
    "#Дана строка. Разрежьте ее на две равные части (если длина строки — четная, а если длина строки нечетная, \n",
    "#то длина первой части должна быть на один символ больше). \n",
    "#Переставьте эти две части местами, результат запишите в новую строку и выведите на экран.\n",
    "#При решении этой задачи не стоит пользоваться инструкцией if.\n",
    "\n",
    "page = input()\n",
    "l = len(page)\n",
    "k = l//2\n",
    "print(page[l-k:], page[0:(l-k)], sep=\"\")"
   ]
  },
  {
   "cell_type": "code",
   "execution_count": 22,
   "metadata": {},
   "outputs": [
    {
     "name": "stdout",
     "output_type": "stream",
     "text": [
      "Fuck you\n",
      "you Fuck\n"
     ]
    }
   ],
   "source": [
    "#Дана строка, состоящая ровно из двух слов, разделенных пробелом. Переставьте эти слова местами. \n",
    "#Результат запишите в строку и выведите получившуюся строку.\n",
    "#При решении этой задачи не стоит пользоваться циклами и инструкцией if.\n",
    "\n",
    "page = input()\n",
    "print(page[page.find(\" \")+1:], page[:page.find(\" \")], sep=\" \")"
   ]
  },
  {
   "cell_type": "code",
   "execution_count": 25,
   "metadata": {},
   "outputs": [
    {
     "name": "stdout",
     "output_type": "stream",
     "text": [
      "run\n",
      "none\n"
     ]
    }
   ],
   "source": [
    "#Дана строка. Если в этой строке буква f встречается только один раз, выведите её индекс. \n",
    "#Если она встречается два и более раз, выведите индекс её первого и последнего появления. \n",
    "#Если буква f в данной строке не встречается, ничего не выводите.\n",
    "#При решении этой задачи не стоит использовать циклы.\n",
    "\n",
    "page = input()\n",
    "k = page.count(\"f\")\n",
    "if k == 1:\n",
    "    print(page.find(\"f\"))\n",
    "elif k >= 2:\n",
    "    print(page.find(\"f\"), page.rfind(\"f\"))\n",
    "else:\n",
    "    print(\"none\")\n"
   ]
  },
  {
   "cell_type": "code",
   "execution_count": 35,
   "metadata": {},
   "outputs": [
    {
     "name": "stdout",
     "output_type": "stream",
     "text": [
      "fuck for fun\n",
      "5\n"
     ]
    }
   ],
   "source": [
    "#Дана строка. Найдите в этой строке второе вхождение буквы f, и выведите индекс этого вхождения. \n",
    "#Если буква f в данной строке встречается только один раз, выведите число -1, а если не встречается ни разу, \n",
    "#выведите число -2.\n",
    "\n",
    "page = input()\n",
    "k = page.count(\"f\")\n",
    "r = page[page.find(\"f\")+1:]\n",
    "if k == 1:\n",
    "    print(\"-1\")\n",
    "elif k >= 2:\n",
    "    print(r.find(\"f\")+len(page[0:page.find(\"f\")+1]))\n",
    "else:\n",
    "    print(\"-2\")\n",
    "\n",
    "#print(s.find('f', s.find('f') + 1)) - более верное решение, проще"
   ]
  },
  {
   "cell_type": "code",
   "execution_count": 38,
   "metadata": {},
   "outputs": [
    {
     "name": "stdout",
     "output_type": "stream",
     "text": [
      "dsfgsdfgdfg\n",
      "dsfgsdfgdf g\n"
     ]
    }
   ],
   "source": [
    "#Дана строка, в которой буква h встречается минимум два раза. \n",
    "#Удалите из этой строки первое и последнее вхождение буквы h, а также все символы, находящиеся между ними.\n",
    "\n",
    "page = input()\n",
    "part1=page[0: page.find(\"h\")]\n",
    "part2=page[page.rfind(\"h\")+1:]\n",
    "print(part1 + part2)\n",
    "\n",
    "#short\n",
    "page = input()\n",
    "print(page[0:page.find(\"h\")], page[page.rfind(\"h\")+1:], sep=\"\")\n",
    "\n"
   ]
  },
  {
   "cell_type": "code",
   "execution_count": 39,
   "metadata": {},
   "outputs": [
    {
     "name": "stdout",
     "output_type": "stream",
     "text": [
      "ffff\n",
      "ffff\n"
     ]
    }
   ],
   "source": [
    "#Дана строка, в которой буква h встречается как минимум два раза. \n",
    "#Разверните последовательность символов, заключенную между первым и последним появлением буквы h, \n",
    "#в противоположном порядке.\n",
    "\n",
    "page = input()\n",
    "\n",
    "part1=page[0: page.find(\"h\")+1]\n",
    "part2=page[page.find(\"h\"):page.rfind(\"h\")]\n",
    "part3=page[page.rfind(\"h\")+1:]\n",
    "print(part1, part2[::-1], part3, sep=\"\")"
   ]
  },
  {
   "cell_type": "code",
   "execution_count": 40,
   "metadata": {},
   "outputs": [
    {
     "name": "stdout",
     "output_type": "stream",
     "text": [
      "1+1\n"
     ]
    },
    {
     "data": {
      "text/plain": [
       "'one+one'"
      ]
     },
     "execution_count": 40,
     "metadata": {},
     "output_type": "execute_result"
    }
   ],
   "source": [
    "#Дана строка. Замените в этой строке все цифры 1 на слово one.\n",
    "\n",
    "page = input()\n",
    "print(page.replace(\"1\",\"one\"))\n"
   ]
  },
  {
   "cell_type": "code",
   "execution_count": 41,
   "metadata": {},
   "outputs": [
    {
     "name": "stdout",
     "output_type": "stream",
     "text": [
      "@@121@@\n",
      "121\n"
     ]
    }
   ],
   "source": [
    "#Дана строка. Удалите из этой строки все символы @.\n",
    "\n",
    "page = input()\n",
    "print(page.replace(\"@\",\"\"))\n",
    "\n",
    "\n"
   ]
  },
  {
   "cell_type": "code",
   "execution_count": 48,
   "metadata": {},
   "outputs": [
    {
     "name": "stdout",
     "output_type": "stream",
     "text": [
      "In the hole in the ground there lived a hobbit\n",
      "In tHe Hole in tHe ground tHere lived a hobbit\n"
     ]
    }
   ],
   "source": [
    "#In the hole in the ground there lived a hobbit\n",
    "page = input()\n",
    "\n",
    "part1=page[0: page.find(\"h\")+1]\n",
    "part2=page[page.find(\"h\")+1:page.rfind(\"h\")]\n",
    "part3=page[page.rfind(\"h\"):]\n",
    "print(part1, part2.replace(\"h\",\"H\"), part3, sep=\"\")"
   ]
  },
  {
   "cell_type": "code",
   "execution_count": 59,
   "metadata": {},
   "outputs": [
    {
     "name": "stdout",
     "output_type": "stream",
     "text": [
      "fuck it for free\n",
      "5\n",
      "f\n",
      "uck it for free\n",
      "k\n",
      "fuc it for free\n",
      "t\n",
      "fuck i for free\n",
      "o\n",
      "fuck it fr free\n",
      "f\n",
      "uck it for free\n",
      "e\n",
      "fuck it for fre\n"
     ]
    }
   ],
   "source": [
    "#Дана строка. Удалите из нее все символы, чьи индексы делятся на 3.\n",
    "\n",
    "page = input()\n",
    "k = (len(page)-1)//3\n",
    "print(k)\n",
    "for i in range(0,k+1):\n",
    "    f = page[3*i]\n",
    "    print(f)\n",
    "    r=page.replace(f,\"\",1)\n",
    "    print(r)"
   ]
  },
  {
   "cell_type": "code",
   "execution_count": 89,
   "metadata": {},
   "outputs": [
    {
     "name": "stdout",
     "output_type": "stream",
     "text": [
      "qwerty\n",
      "0.\n",
      "1.w\n",
      "2.e\n",
      "3.\n",
      "4.t\n",
      "5.y\n",
      "wety\n"
     ]
    }
   ],
   "source": [
    "page=input()\n",
    "n_page=\"\"\n",
    "k=len(page)\n",
    "for i in range(0,k):\n",
    "    print(i, end=\".\")\n",
    "    if i%3 != 0:\n",
    "        print(page[i:i+1])\n",
    "        n_page = n_page + page[i]\n",
    "    else:\n",
    "        print(\"\")\n",
    "print(n_page)"
   ]
  },
  {
   "cell_type": "code",
   "execution_count": 88,
   "metadata": {},
   "outputs": [
    {
     "name": "stdout",
     "output_type": "stream",
     "text": [
      "qwerty\n",
      "wety\n"
     ]
    }
   ],
   "source": [
    "\n",
    "s = input()\n",
    "t = ''\n",
    "for i in range(len(s)):\n",
    "    if i % 3 != 0:\n",
    "        t = t + s[i]\n",
    "print(t)"
   ]
  },
  {
   "cell_type": "code",
   "execution_count": 1,
   "metadata": {},
   "outputs": [
    {
     "name": "stdout",
     "output_type": "stream",
     "text": [
      "10\n",
      "1\n",
      "weapon+3 = 13\n",
      "+ 4 chance= 70.0 % price= 19 AA number of enchants for 100% = 8 number of weapons for 100% 2\n",
      "+ 5 chance= 49.0 % price= 28 AA number of enchants for 100% = 15 number of weapons for 100% 3\n",
      "+ 6 chance= 34.3 % price= 40 AA number of enchants for 100% = 18 number of weapons for 100% 3\n",
      "+ 7 chance= 24.01 % price= 58 AA number of enchants for 100% = 35 number of weapons for 100% 5\n",
      "+ 8 chance= 16.81 % price= 82 AA number of enchants for 100% = 48 number of weapons for 100% 6\n",
      "+ 9 chance= 11.76 % price= 116 AA number of enchants for 100% = 81 number of weapons for 100% 9\n",
      "+ 10 chance= 8.24 % price= 164 AA number of enchants for 100% = 130 number of weapons for 100% 13\n",
      "+ 11 chance= 5.76 % price= 233 AA number of enchants for 100% = 198 number of weapons for 100% 18\n",
      "+ 12 chance= 4.04 % price= 331 AA number of enchants for 100% = 300 number of weapons for 100% 25\n",
      "+ 13 chance= 2.82 % price= 470 AA number of enchants for 100% = 468 number of weapons for 100% 36\n",
      "+ 14 chance= 1.98 % price= 668 AA number of enchants for 100% = 714 number of weapons for 100% 51\n",
      "+ 15 chance= 1.38 % price= 951 AA number of enchants for 100% = 1095 number of weapons for 100% 73\n"
     ]
    }
   ],
   "source": [
    "#enchant weapon warrior\n",
    "import math\n",
    "weapon_w = int(input())\n",
    "enchant_w = int(input())\n",
    "e3 = weapon_w + 3 * enchant_w\n",
    "print(\"weapon+3 =\", e3)\n",
    "for i in range (4, 16):\n",
    "    k = 0.7 ** (i-3)\n",
    "    f = int(e3 / k) + enchant_w * (i-3)\n",
    "    n = (math.ceil(1 / k)) * i\n",
    "    r = (math.ceil(1 / k))\n",
    "    print(\"+\", i, \"chance=\", round(k*100,2), \"%\", \"price=\", f, \n",
    "          \"AA\", \"number of enchants for 100% =\", n, \"number of weapons for 100%\", r)"
   ]
  },
  {
   "cell_type": "code",
   "execution_count": 26,
   "metadata": {},
   "outputs": [
    {
     "name": "stdout",
     "output_type": "stream",
     "text": [
      "100\n",
      "12\n",
      "weapon+3 = 136\n",
      "+ 4 chance= 40.0 % price= 352 AA number of enchants for 100% = 12 number of weapons for 100% 3\n",
      "+ 5 chance= 16.0 % price= 873 AA number of enchants for 100% = 35 number of weapons for 100% 7\n",
      "+ 6 chance= 6.4 % price= 2160 AA number of enchants for 100% = 96 number of weapons for 100% 16\n",
      "+ 7 chance= 2.56 % price= 5360 AA number of enchants for 100% = 280 number of weapons for 100% 40\n",
      "+ 8 chance= 1.02 % price= 13341 AA number of enchants for 100% = 784 number of weapons for 100% 98\n",
      "+ 9 chance= 0.41 % price= 33275 AA number of enchants for 100% = 2205 number of weapons for 100% 245\n",
      "+ 10 chance= 0.16 % price= 83091 AA number of enchants for 100% = 6110 number of weapons for 100% 611\n",
      "+ 11 chance= 0.07 % price= 207615 AA number of enchants for 100% = 16786 number of weapons for 100% 1526\n",
      "+ 12 chance= 0.03 % price= 518906 AA number of enchants for 100% = 45780 number of weapons for 100% 3815\n",
      "+ 13 chance= 0.01 % price= 1297117 AA number of enchants for 100% = 123981 number of weapons for 100% 9537\n",
      "+ 14 chance= 0.0 % price= 3242624 AA number of enchants for 100% = 333788 number of weapons for 100% 23842\n",
      "+ 15 chance= 0.0 % price= 8106375 AA number of enchants for 100% = 894075 number of weapons for 100% 59605\n"
     ]
    }
   ],
   "source": [
    "#enchant weapon mage\n",
    "import math\n",
    "weapon_w = int(input())\n",
    "enchant_w = int(input())\n",
    "e3 = weapon_w + 3 * enchant_w\n",
    "print(\"weapon+3 =\", e3)\n",
    "for i in range (4, 16):\n",
    "    k = 0.4 ** (i-3)\n",
    "    f = int(e3 / k) + enchant_w * (i-3)\n",
    "    n = (math.ceil(1 / k)) * i\n",
    "    r = (math.ceil(1 / k))\n",
    "    print(\"+\", i, \"chance=\", round(k*100,2), \"%\", \"price=\", f, \n",
    "          \"AA\", \"number of enchants for 100% =\", n, \"number of weapons for 100%\", r)"
   ]
  },
  {
   "cell_type": "code",
   "execution_count": null,
   "metadata": {},
   "outputs": [],
   "source": []
  }
 ],
 "metadata": {
  "kernelspec": {
   "display_name": "Python 3",
   "language": "python",
   "name": "python3"
  },
  "language_info": {
   "codemirror_mode": {
    "name": "ipython",
    "version": 3
   },
   "file_extension": ".py",
   "mimetype": "text/x-python",
   "name": "python",
   "nbconvert_exporter": "python",
   "pygments_lexer": "ipython3",
   "version": "3.7.6"
  }
 },
 "nbformat": 4,
 "nbformat_minor": 4
}
