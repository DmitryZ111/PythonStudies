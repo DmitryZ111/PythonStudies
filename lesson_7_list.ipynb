{
 "cells": [
  {
   "cell_type": "code",
   "execution_count": 1,
   "metadata": {},
   "outputs": [],
   "source": [
    "#Задача 1\n",
    "#Выведите все элементы списка с четными индексами (то есть A[0], A[2], A[4], ...).\n",
    "\n",
    "line = input()\n",
    "A = line.split()\n",
    "B = A[::2]\n",
    "print(' '.join([str(i) for i in B]))\n"
   ]
  },
  {
   "cell_type": "code",
   "execution_count": 9,
   "metadata": {},
   "outputs": [
    {
     "name": "stdout",
     "output_type": "stream",
     "text": [
      "1 2 2 3 4\n",
      "[1]\n"
     ]
    }
   ],
   "source": [
    "#Задача 2\n",
    "#Выведите все четные элементы списка. \n",
    "#При этом используйте цикл for, перебирающий элементы списка, а не их индексы!\n",
    "\n",
    "line = input()\n",
    "A = line.split()\n",
    "B = []\n",
    "for element in A:\n",
    "    if int(element) % 2 == 0:\n",
    "        B.append(int(element))\n",
    "print(B)\n",
    "print(' '.join([str(i) for i in B]))"
   ]
  },
  {
   "cell_type": "code",
   "execution_count": 3,
   "metadata": {},
   "outputs": [],
   "source": [
    "#Задача 3\n",
    "#Дан список чисел. Выведите все элементы списка, которые больше предыдущего элемента.\n",
    "\n",
    "line = input()\n",
    "A = line.split()\n",
    "B = []\n",
    "high = A[1]\n",
    "for element in A:\n",
    "    if int(element) > int(high):\n",
    "        B.append(int(element))\n",
    "    high = element\n",
    "print(' '.join([str(i) for i in B])) #чтобы без скобок"
   ]
  },
  {
   "cell_type": "code",
   "execution_count": 19,
   "metadata": {},
   "outputs": [
    {
     "name": "stdout",
     "output_type": "stream",
     "text": [
      "1 2 3 4\n",
      "[1, 2]\n",
      "1 2\n"
     ]
    }
   ],
   "source": [
    "#Задача 4\n",
    "#Дан список чисел. Если в нем есть два соседних элемента одного знака, выведите эти числа. \n",
    "#Если соседних элементов одного знака нет — не выводите ничего. \n",
    "#Если таких пар соседей несколько — выведите первую пару.\n",
    "\n",
    "line = input()\n",
    "A = line.split()\n",
    "B = []\n",
    "\n",
    "for i in range(1,len(A)):\n",
    "    element1 = A[i-1]\n",
    "    element2 = A[i]    \n",
    "    if len(B) == 2:\n",
    "        break\n",
    "    else:    \n",
    "        if int(element1) * int(element2) >= 0:\n",
    "            B.append(int(element1))\n",
    "            B.append(int(element2))\n",
    "print(' '.join([str(i) for i in B])) #чтобы без скобок\n"
   ]
  },
  {
   "cell_type": "code",
   "execution_count": 21,
   "metadata": {},
   "outputs": [
    {
     "name": "stdout",
     "output_type": "stream",
     "text": [
      "1 1 5 1 1\n",
      "1\n"
     ]
    }
   ],
   "source": [
    "#Задача 5\n",
    "#Дан список чисел. Определите, сколько в этом списке элементов, которые больше двух своих соседей, \n",
    "#и выведите количество таких элементов. \n",
    "#Крайние элементы списка никогда не учитываются, поскольку у них недостаточно соседей.\n",
    "\n",
    "line = input()\n",
    "A = line.split()\n",
    "k = 0\n",
    "\n",
    "for i in range(1,len(A)-1):\n",
    "    element1 = A[i-1]\n",
    "    element2 = A[i]\n",
    "    element3 = A[i+1]\n",
    "    if int(element2) > int(element1) and int(element2) > int(element3):\n",
    "        k += 1\n",
    "print(k)\n",
    "\n"
   ]
  },
  {
   "cell_type": "code",
   "execution_count": null,
   "metadata": {},
   "outputs": [],
   "source": [
    "#Задача 5 вариант решения\n",
    "a = [int(i) for i in input().split()]\n",
    "counter = 0\n",
    "for i in range(1, len(a) - 1):\n",
    "    # о боги, разве так можно писать?\n",
    "    if a[i - 1] < a[i] > a[i + 1]:\n",
    "        counter += 1\n",
    "print(counter)"
   ]
  },
  {
   "cell_type": "code",
   "execution_count": 1,
   "metadata": {},
   "outputs": [
    {
     "name": "stdout",
     "output_type": "stream",
     "text": [
      "-1 -2 -3 -4 -5\n",
      "0 -1 -1\n",
      "-1 0\n"
     ]
    }
   ],
   "source": [
    "#Задача 6\n",
    "#Дан список чисел. Выведите значение наибольшего элемента в списке, а затем индекс этого элемента в списке. \n",
    "#Если наибольших элементов несколько, выведите индекс первого из них.\n",
    "\n",
    "\n",
    "A = input().split()\n",
    "for i in range(len(A)):\n",
    "    A[i] = int(A[i])\n",
    "for i in range(0,len(A)):\n",
    "    print(i, A[i], max(A))\n",
    "    if A[i] == max(A):\n",
    "        k = i\n",
    "        break\n",
    "print(max(A), i)\n",
    "\n",
    "        "
   ]
  },
  {
   "cell_type": "code",
   "execution_count": 42,
   "metadata": {},
   "outputs": [
    {
     "name": "stdout",
     "output_type": "stream",
     "text": [
      "-1 -2 -3 -4 -5\n",
      "[-1.0, -2.0, -3.0, -4.0, -5.0]\n",
      "0 -1.0 -1.0\n",
      "-1.0 0\n"
     ]
    }
   ],
   "source": [
    "A = [float(i) for i in input().split()]\n",
    "print(A)\n",
    "\n",
    "for i in range(0,len(A)):\n",
    "    print(i, A[i], max(A))\n",
    "    if A[i] == max(A):\n",
    "        k = i\n",
    "        break\n",
    "print(max(A), i)"
   ]
  },
  {
   "cell_type": "code",
   "execution_count": 8,
   "metadata": {},
   "outputs": [
    {
     "name": "stdout",
     "output_type": "stream",
     "text": [
      "1 2 3\n",
      "4\n",
      "4\n"
     ]
    }
   ],
   "source": [
    "#Задача 7\n",
    "\n",
    "#Петя перешёл в другую школу. На уроке физкультуры ему понадобилось определить своё место в строю. \n",
    "#Помогите ему это сделать. Программа получает на вход невозрастающую последовательность натуральных чисел, \n",
    "#означающих рост каждого человека в строю. После этого вводится число X – рост Пети. \n",
    "#Все числа во входных данных натуральные и не превышают 200.\n",
    "\n",
    "#Выведите номер, под которым Петя должен встать в строй. \n",
    "#Если в строю есть люди с одинаковым ростом, таким же, как у Пети, то он должен встать после них.\n",
    "\n",
    "All = input().split()\n",
    "X = int(input())\n",
    "counter = 1\n",
    "\n",
    "for i in range(len(All)):\n",
    "    All[i] = int(All[i])\n",
    "    if X <= All[i]:\n",
    "        counter +=1\n",
    "print(counter)"
   ]
  },
  {
   "cell_type": "code",
   "execution_count": 9,
   "metadata": {},
   "outputs": [
    {
     "name": "stdout",
     "output_type": "stream",
     "text": [
      "1\n",
      "0\n"
     ]
    }
   ],
   "source": [
    "#Дан список, упорядоченный по неубыванию элементов в нем. Определите, сколько в нем различных элементов.\n",
    "\n",
    "All = input().split()\n",
    "counter = 0\n",
    "\n",
    "for i in range(len(All)):\n",
    "    All[i] = int(All[i])\n",
    "    if All[i-1] == All[i]:\n",
    "        counter +=1\n",
    "print(len(All) - counter)\n"
   ]
  },
  {
   "cell_type": "code",
   "execution_count": 37,
   "metadata": {},
   "outputs": [
    {
     "name": "stdout",
     "output_type": "stream",
     "text": [
      "1 2 3 4\n",
      "1 [1, 2, 3, 4]\n",
      "2 [1, 2, 3, 4]\n",
      "3 [1, 3, 2, 4]\n",
      "[1, 3, 2, 4]\n"
     ]
    }
   ],
   "source": [
    "#Переставьте соседние элементы списка (A[0] c A[1], A[2] c A[3] и т. д.). \n",
    "#Если элементов нечетное число, то последний элемент остается на своем месте.\n",
    "\n",
    "All = [int(s) for s in input().split()]\n",
    "#print(All)\n",
    "#print(len(All))\n",
    "\n",
    "New = All\n",
    "for i in range(1, len(All)):\n",
    "    print(i, New)\n",
    "    if i % 2 == 0:\n",
    "        New[i], New[i-1] = All[i-1], All[i]\n",
    "print(New)    "
   ]
  },
  {
   "cell_type": "code",
   "execution_count": 35,
   "metadata": {},
   "outputs": [
    {
     "name": "stdout",
     "output_type": "stream",
     "text": [
      "4 3 2 1\n",
      "4\n",
      "3\n",
      "2\n",
      "1\n"
     ]
    }
   ],
   "source": [
    "All = [int(s) for s in input().split()]\n",
    "\n",
    "for i in All:\n",
    "    print(i)\n"
   ]
  },
  {
   "cell_type": "code",
   "execution_count": null,
   "metadata": {},
   "outputs": [],
   "source": []
  }
 ],
 "metadata": {
  "kernelspec": {
   "display_name": "Python 3",
   "language": "python",
   "name": "python3"
  },
  "language_info": {
   "codemirror_mode": {
    "name": "ipython",
    "version": 3
   },
   "file_extension": ".py",
   "mimetype": "text/x-python",
   "name": "python",
   "nbconvert_exporter": "python",
   "pygments_lexer": "ipython3",
   "version": "3.7.7"
  }
 },
 "nbformat": 4,
 "nbformat_minor": 4
}
