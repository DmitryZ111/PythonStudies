{
 "cells": [
  {
   "cell_type": "code",
   "execution_count": 10,
   "metadata": {},
   "outputs": [
    {
     "name": "stdout",
     "output_type": "stream",
     "text": [
      "100\n",
      "7\n"
     ]
    }
   ],
   "source": [
    "#По данному натуральному числу N найдите наибольшую целую степень двойки, не превосходящую N. Выведите показатель степени и саму степень.\n",
    "#Операцией возведения в степень пользоваться нельзя!\n",
    "\n",
    "N = int(input())\n",
    "k=1\n",
    "r=1\n",
    "for i in range(0, N+1):\n",
    "    if 2 * k <= N:\n",
    "        k *= 2\n",
    "        r += 1\n",
    "    else:\n",
    "        print(N)\n",
    "        print(\"степень =\", r-1)\n",
    "        print(\"число =\", k)\n",
    "        break"
   ]
  },
  {
   "cell_type": "code",
   "execution_count": 12,
   "metadata": {},
   "outputs": [
    {
     "name": "stdout",
     "output_type": "stream",
     "text": [
      "10\n",
      "10\n",
      "степень = 3\n",
      "число = 8\n"
     ]
    }
   ],
   "source": [
    "N = int(input())\n",
    "k=1\n",
    "r=1\n",
    "while 2 * k <= N:\n",
    "    k *= 2\n",
    "    r += 1\n",
    "print(N)\n",
    "print(\"степень =\", r-1)\n",
    "print(\"число =\", k)"
   ]
  },
  {
   "cell_type": "code",
   "execution_count": 13,
   "metadata": {},
   "outputs": [
    {
     "name": "stdout",
     "output_type": "stream",
     "text": [
      "1\n",
      "10\n",
      "10.834705943388391 26\n"
     ]
    }
   ],
   "source": [
    "#В первый день спортсмен пробежал x километров, а затем он каждый день увеличивал пробег \n",
    "#на 10% от предыдущего значения. По данному числу y определите номер дня, на который пробег спортсмена \n",
    "#составит не менее y километров.\n",
    "\n",
    "#Программа получает на вход действительные числа x и y и должна вывести одно натуральное число.\n",
    "\n",
    "x = int(input())\n",
    "y = int(input())\n",
    "\n",
    "r = x\n",
    "days = 1\n",
    "while r < y:\n",
    "    r *= 1.1\n",
    "    days += 1\n",
    "print(r, days)\n"
   ]
  },
  {
   "cell_type": "code",
   "execution_count": null,
   "metadata": {},
   "outputs": [],
   "source": [
    "#Программа получает на вход последовательность целых неотрицательных чисел, каждое число \n",
    "#записано в отдельной строке. Последовательность завершается числом 0, при считывании которого \n",
    "#программа должна закончить свою работу и вывести количество членов последовательности \n",
    "#(не считая завершающего числа 0). Числа, следующие за числом 0, считывать не нужно.\n",
    "\n",
    "\n",
    "N = int(input())\n"
   ]
  },
  {
   "cell_type": "code",
   "execution_count": null,
   "metadata": {},
   "outputs": [],
   "source": [
    "#Определите сумму всех элементов последовательности, завершающейся числом 0. \n",
    "#В этой и во всех следующих задачах числа, следующие за первым нулем, учитывать не нужно.\n",
    "\n",
    "k=1\n",
    "r=0\n",
    "while k != 0:\n",
    "    k = int(input())\n",
    "    r += k\n",
    "print(r-k)"
   ]
  },
  {
   "cell_type": "code",
   "execution_count": 14,
   "metadata": {},
   "outputs": [
    {
     "ename": "SyntaxError",
     "evalue": "invalid syntax (<ipython-input-14-29741f24b0b5>, line 6)",
     "output_type": "error",
     "traceback": [
      "\u001b[0;36m  File \u001b[0;32m\"<ipython-input-14-29741f24b0b5>\"\u001b[0;36m, line \u001b[0;32m6\u001b[0m\n\u001b[0;31m    while k != 0\u001b[0m\n\u001b[0m                ^\u001b[0m\n\u001b[0;31mSyntaxError\u001b[0m\u001b[0;31m:\u001b[0m invalid syntax\n"
     ]
    }
   ],
   "source": [
    "#Определите среднее значение всех элементов последовательности, завершающейся числом 0.\n",
    "\n",
    "k=1\n",
    "r=0\n",
    "l=0\n",
    "while k != 0:\n",
    "    k = int(input())\n",
    "    r += k\n",
    "    l += 1\n",
    "print(r/(l-1))"
   ]
  },
  {
   "cell_type": "code",
   "execution_count": 19,
   "metadata": {},
   "outputs": [
    {
     "name": "stdout",
     "output_type": "stream",
     "text": [
      "1\n",
      "2\n",
      "3\n",
      "0\n",
      "3\n"
     ]
    }
   ],
   "source": [
    "#Последовательность состоит из натуральных чисел и завершается числом 0. \n",
    "#Определите значение наибольшего элемента последовательности.\n",
    "\n",
    "k=1\n",
    "r=1\n",
    "while k != 0:\n",
    "    k = int(input())\n",
    "    if k >= r:\n",
    "        r = k\n",
    "print(r)    "
   ]
  },
  {
   "cell_type": "code",
   "execution_count": 23,
   "metadata": {},
   "outputs": [
    {
     "name": "stdout",
     "output_type": "stream",
     "text": [
      "1\n",
      "2\n",
      "3\n",
      "0\n",
      "2\n"
     ]
    }
   ],
   "source": [
    "#Последовательность состоит из натуральных чисел и завершается числом 0. \n",
    "#Определите индекс наибольшего элемента последовательности. \n",
    "#Если наибольших элементов несколько, выведите индекс первого из них. Нумерация элементов начинается с нуля.\n",
    "\n",
    "\n",
    "k=1\n",
    "r=1\n",
    "ind=-1\n",
    "res=0\n",
    "while k != 0:\n",
    "    k = int(input())\n",
    "    ind += 1\n",
    "    if k >= r:\n",
    "        if k > r:\n",
    "            res = ind\n",
    "        r = k\n",
    "print(res)    "
   ]
  },
  {
   "cell_type": "code",
   "execution_count": 24,
   "metadata": {},
   "outputs": [
    {
     "name": "stdout",
     "output_type": "stream",
     "text": [
      "1\n",
      "2\n",
      "3\n",
      "0\n",
      "1\n"
     ]
    }
   ],
   "source": [
    "#Определите количество четных элементов в последовательности, завершающейся числом 0.\n",
    "\n",
    "\n",
    "k = 1\n",
    "counter = 0\n",
    "while k != 0:\n",
    "    k = int(input())\n",
    "    if k % 2 == 0:\n",
    "        counter +=1\n",
    "print(counter-1)  \n",
    "    \n",
    "    \n",
    "    "
   ]
  },
  {
   "cell_type": "code",
   "execution_count": 25,
   "metadata": {},
   "outputs": [
    {
     "name": "stdout",
     "output_type": "stream",
     "text": [
      "1\n",
      "2\n",
      "3\n",
      "0\n",
      "2\n"
     ]
    }
   ],
   "source": [
    "#Последовательность состоит из натуральных чисел и завершается числом 0. \n",
    "#Определите, сколько элементов этой последовательности больше предыдущего элемента.\n",
    "\n",
    "k = 1\n",
    "r = 0\n",
    "counter = 0\n",
    "while k != 0:\n",
    "    k = int(input())\n",
    "    if k > r:\n",
    "        counter +=1\n",
    "    r = k    \n",
    "print(counter-1)    \n"
   ]
  },
  {
   "cell_type": "code",
   "execution_count": 32,
   "metadata": {},
   "outputs": [
    {
     "name": "stdout",
     "output_type": "stream",
     "text": [
      "3\n",
      "2\n",
      "1\n",
      "0\n",
      "top = 3\n",
      "second top = 2\n"
     ]
    }
   ],
   "source": [
    "#Последовательность состоит из различных натуральных чисел и завершается числом 0. \n",
    "#Определите значение второго по величине элемента в этой последовательности. \n",
    "#Гарантируется, что в последовательности есть хотя бы два элемента.\n",
    "\n",
    "new=1\n",
    "top=0\n",
    "second=0\n",
    "while new!=0:\n",
    "    new=int(input())\n",
    "    if new >= top:\n",
    "        top, second = new, top\n",
    "    if new < top and new > second:\n",
    "        second = new\n",
    "print(\"top =\", top)\n",
    "print(\"second top =\", second)"
   ]
  },
  {
   "cell_type": "code",
   "execution_count": null,
   "metadata": {},
   "outputs": [],
   "source": [
    "#Последовательность состоит из натуральных чисел и завершается числом 0. \n",
    "#Определите, сколько элементов этой последовательности равны ее наибольшему элементу.\n",
    "\n",
    "new=1\n",
    "top=0\n",
    "counter=1\n",
    "\n",
    "while new!=0:\n",
    "    new=int(input())\n",
    "    if new == top:\n",
    "        counter +=1\n",
    "    \n",
    "    if new > top:\n",
    "        top = new\n",
    "        counter = 1\n",
    "print(counter)"
   ]
  },
  {
   "cell_type": "code",
   "execution_count": 56,
   "metadata": {},
   "outputs": [
    {
     "name": "stdout",
     "output_type": "stream",
     "text": [
      "6\n",
      "0 1 1 1\n",
      "1 1 2 2\n",
      "2 2 3 3\n",
      "3 3 5 5\n",
      "4 5 8 8\n",
      "8\n"
     ]
    }
   ],
   "source": [
    "#φ0 = 0,  φ1 = 1,  φn = φn−1 + φn−2.\n",
    "#По данному числу n определите n-е число Фибоначчи φn.\n",
    "\n",
    "#Эту задачу можно решать и циклом for.\n",
    "\n",
    "# f0=0\n",
    "# f1=1\n",
    "# f2=1\n",
    "# f3=2\n",
    "# f4=3\n",
    "# f5=5\n",
    "# f6=8\n",
    "\n",
    "n = int(input())\n",
    "fib0=0\n",
    "fib1=1\n",
    "fib_res=0\n",
    "\n",
    "if n==0:\n",
    "    fib_res=fib0\n",
    "elif n==1:\n",
    "    fib_res=fib1\n",
    "else:\n",
    "    for i in range(0, n-1):\n",
    "        fib_res=fib0+fib1\n",
    "        fib0, fib1 = fib1, fib_res\n",
    "#        print(i,fib0,fib1,fib_res)\n",
    "print(fib_res)"
   ]
  },
  {
   "cell_type": "code",
   "execution_count": 72,
   "metadata": {},
   "outputs": [
    {
     "name": "stdout",
     "output_type": "stream",
     "text": [
      "5\n",
      "0 1 1 1\n",
      "1 1 2 2\n",
      "2 2 3 3\n",
      "3 3 5 5\n",
      "5\n"
     ]
    }
   ],
   "source": [
    "#Дано натуральное число A. Определите, каким по счету числом Фибоначчи оно является, \n",
    "#то есть выведите такое число n, что φn = A. Если А не является числом Фибоначчи, выведите число -1.\n",
    "\n",
    "# f0=0\n",
    "# f1=1\n",
    "# f2=1\n",
    "# f3=2\n",
    "# f4=3\n",
    "# f5=5\n",
    "# f6=8\n",
    "\n",
    "A=int(input())\n",
    "n=-1\n",
    "fib0=0\n",
    "fib1=1\n",
    "fib_res=0\n",
    "\n",
    "if A==0:\n",
    "    n=0\n",
    "elif A==1:\n",
    "    n=1\n",
    "else:\n",
    "    for i in range(0, A):\n",
    "        fib_res=fib0+fib1\n",
    "        fib0, fib1 = fib1, fib_res\n",
    "        print(i,fib0,fib1,fib_res)\n",
    "\n",
    "        if fib_res == A:\n",
    "            n = i+2            \n",
    "            break\n",
    "#        if fib_res > A:\n",
    "#            break\n",
    "print(n)\n"
   ]
  },
  {
   "cell_type": "code",
   "execution_count": null,
   "metadata": {},
   "outputs": [],
   "source": [
    "#Дана последовательность натуральных чисел, завершающаяся числом 0. \n",
    "#Определите, какое наибольшее число подряд идущих элементов этой последовательности равны друг другу.\n",
    "\n",
    "new=1\n",
    "old=0\n",
    "counter=1\n",
    "max_counter=1\n",
    "while new!=0:\n",
    "    new=int(input())\n",
    "    if old==new:\n",
    "        counter+=1\n",
    "    else:\n",
    "        counter=1    \n",
    "    if counter>=max_counter:\n",
    "        max_counter=counter\n",
    "    old=new\n",
    "print(max_counter)"
   ]
  },
  {
   "cell_type": "code",
   "execution_count": null,
   "metadata": {},
   "outputs": [],
   "source": [
    "#Дана последовательность натуральных чисел x1, x2, ..., xn. Стандартным отклонением называется величина\n",
    "#σ=√(x1−s)2+(x2−s)2+…+(xn−s)2 / n−1\n",
    "#где s=x1+x2+…+xnn — среднее арифметическое последовательности.\n",
    "#Определите стандартное отклонение для данной последовательности натуральных чисел, завершающейся числом 0.\n",
    "\n",
    "\n",
    "from math import sqrt"
   ]
  },
  {
   "cell_type": "code",
   "execution_count": null,
   "metadata": {},
   "outputs": [],
   "source": []
  }
 ],
 "metadata": {
  "kernelspec": {
   "display_name": "Python 3",
   "language": "python",
   "name": "python3"
  },
  "language_info": {
   "codemirror_mode": {
    "name": "ipython",
    "version": 3
   },
   "file_extension": ".py",
   "mimetype": "text/x-python",
   "name": "python",
   "nbconvert_exporter": "python",
   "pygments_lexer": "ipython3",
   "version": "3.7.7"
  }
 },
 "nbformat": 4,
 "nbformat_minor": 4
}
