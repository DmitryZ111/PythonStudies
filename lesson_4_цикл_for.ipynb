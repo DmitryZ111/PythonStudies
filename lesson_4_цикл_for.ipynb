{
 "cells": [
  {
   "cell_type": "code",
   "execution_count": 1,
   "metadata": {},
   "outputs": [
    {
     "name": "stdout",
     "output_type": "stream",
     "text": [
      "#1 color of rainbow is red\n",
      "#2 color of rainbow is orange\n",
      "#3 color of rainbow is yellow\n",
      "#4 color of rainbow is green\n",
      "#5 color of rainbow is cyan\n",
      "#6 color of rainbow is blue\n",
      "#7 color of rainbow is violet\n"
     ]
    }
   ],
   "source": [
    "i = 1\n",
    "for color in 'red', 'orange', 'yellow', 'green', 'cyan', 'blue', 'violet':\n",
    "    print('#', i, ' color of rainbow is ', color, sep = '')\n",
    "    i += 1\n",
    "    \n",
    "# Инструкция i += 1 эквивалентна конструкции i = i + 1 (это просто сокращенная запись). \n",
    "# Такую сокращенную запись можно использовать для всех арифметических операций: *=, -=, /=, %=..."
   ]
  },
  {
   "cell_type": "code",
   "execution_count": 2,
   "metadata": {},
   "outputs": [
    {
     "name": "stdout",
     "output_type": "stream",
     "text": [
      "1\n",
      "2\n",
      "3\n",
      "one\n",
      "two\n",
      "three\n"
     ]
    }
   ],
   "source": [
    "for i in 1, 2, 3, 'one', 'two', 'three':\n",
    "    print(i)"
   ]
  },
  {
   "cell_type": "code",
   "execution_count": 4,
   "metadata": {},
   "outputs": [
    {
     "name": "stdout",
     "output_type": "stream",
     "text": [
      "1\n",
      "3\n",
      "1\n",
      "2\n"
     ]
    }
   ],
   "source": [
    "#Даны два целых числа A и B (при этом A ≤ B). Выведите все числа от A до B включительно.\n",
    "\n",
    "A = int(input())\n",
    "B = int(input())\n",
    "\n",
    "for i in range(A,B+1):\n",
    "    print(i)\n"
   ]
  },
  {
   "cell_type": "code",
   "execution_count": null,
   "metadata": {},
   "outputs": [],
   "source": [
    "#Даны два целых числа A и В. Выведите все числа от A до B включительно, в порядке возрастания, \n",
    "#если A < B, или в порядке убывания в противном случае.\n",
    "A = int(input())\n",
    "B = int(input())\n",
    "\n",
    "if A < B:\n",
    "    for i in range(A,B+1):\n",
    "        print(i)\n",
    "else:\n",
    "    for i in range(A,B-1,-1):\n",
    "        print(i)\n"
   ]
  },
  {
   "cell_type": "code",
   "execution_count": 50,
   "metadata": {},
   "outputs": [
    {
     "name": "stdout",
     "output_type": "stream",
     "text": [
      "7\n",
      "1\n",
      "7 5 3 1 "
     ]
    }
   ],
   "source": [
    "#Даны два целых числа A и В, A>B. Выведите все нечётные числа от A до B включительно, в порядке убывания. \n",
    "#В этой задаче можно обойтись без инструкции if.\n",
    "\n",
    "A = int(input())\n",
    "B = int(input())\n",
    "\n",
    "for i in range(A,B-1,-1):\n",
    "    k=(i*(i%2))\n",
    "    if k!=0:\n",
    "        print(k, end=\" \")\n",
    "\n"
   ]
  },
  {
   "cell_type": "code",
   "execution_count": 51,
   "metadata": {},
   "outputs": [
    {
     "name": "stdout",
     "output_type": "stream",
     "text": [
      "7\n",
      "1\n",
      "7 5 3 1 "
     ]
    }
   ],
   "source": [
    "a = int(input())\n",
    "b = int(input())\n",
    "\n",
    "for i in range(a - (a + 1) % 2, b - b % 2, -2):\n",
    "    print(i, end=' ')"
   ]
  },
  {
   "cell_type": "code",
   "execution_count": 62,
   "metadata": {},
   "outputs": [
    {
     "name": "stdout",
     "output_type": "stream",
     "text": [
      "1\n",
      "2\n",
      "3\n",
      "6\n"
     ]
    }
   ],
   "source": [
    "#Дано 10 целых чисел. Вычислите их сумму. Напишите программу, использующую наименьшее число переменных.\n",
    "su = 0\n",
    "for i in range(10):\n",
    "    number = int(input())\n",
    "    su += number\n",
    "print(su)"
   ]
  },
  {
   "cell_type": "code",
   "execution_count": 64,
   "metadata": {},
   "outputs": [
    {
     "name": "stdout",
     "output_type": "stream",
     "text": [
      "3\n",
      "1\n",
      "2\n",
      "3\n",
      "6\n"
     ]
    }
   ],
   "source": [
    "#Дано несколько чисел. Вычислите их сумму. Сначала вводите количество чисел N,\n",
    "#затем вводится ровно N целых чисел. Какое наименьшее число переменных нужно для решения этой задачи?\n",
    "N = int(input())\n",
    "su = 0\n",
    "for i in range(N):\n",
    "    su += int(input())\n",
    "print(su)"
   ]
  },
  {
   "cell_type": "code",
   "execution_count": 67,
   "metadata": {},
   "outputs": [
    {
     "name": "stdout",
     "output_type": "stream",
     "text": [
      "3\n",
      "0\n",
      "1\n",
      "9\n",
      "36\n"
     ]
    }
   ],
   "source": [
    "#По данному натуральному n вычислите сумму 1^3+2^3+3^3+...+n^3.\n",
    "\n",
    "n = int(input())\n",
    "su = 0\n",
    "for i in range(n+1):\n",
    "    su += i**3\n",
    "    print(su)"
   ]
  },
  {
   "cell_type": "code",
   "execution_count": 69,
   "metadata": {},
   "outputs": [
    {
     "name": "stdout",
     "output_type": "stream",
     "text": [
      "2\n",
      "1\n",
      "2\n"
     ]
    }
   ],
   "source": [
    "#Факториалом числа n называется произведение 1 × 2 × ... × n. Обозначение: n!.\n",
    "#По данному натуральному n вычислите значение n!. \n",
    "#Пользоваться математической библиотекой math в этой задаче запрещено.\n",
    "\n",
    "n = int(input())\n",
    "su = 1\n",
    "for i in range(1, n+1):\n",
    "    su *= i\n",
    "    print(su)"
   ]
  },
  {
   "cell_type": "code",
   "execution_count": 71,
   "metadata": {},
   "outputs": [
    {
     "name": "stdout",
     "output_type": "stream",
     "text": [
      "2\n",
      "1\n",
      "3\n"
     ]
    }
   ],
   "source": [
    "#По данному натуральном n вычислите сумму 1!+2!+3!+...+n!. \n",
    "#В решении этой задачи можно использовать только один цикл. \n",
    "#Пользоваться математической библиотекой math в этой задаче запрещено.\n",
    "\n",
    "\n",
    "n = int(input())\n",
    "fa = 1\n",
    "su = 0\n",
    "for i in range(1, n+1):\n",
    "    \n",
    "    fa *= i\n",
    "    su += fa\n",
    "    print(su)"
   ]
  },
  {
   "cell_type": "code",
   "execution_count": 74,
   "metadata": {},
   "outputs": [
    {
     "name": "stdout",
     "output_type": "stream",
     "text": [
      "2\n",
      "1\n",
      "0\n",
      "0\n",
      "1\n"
     ]
    }
   ],
   "source": [
    "#Дано N чисел: сначала вводится число N, затем вводится ровно N целых чисел. \n",
    "#Подсчитайте количество нулей среди введенных чисел и выведите это количество. \n",
    "#Вам нужно подсчитать количество чисел, равных нулю, а не количество цифр.\n",
    "\n",
    "su = 0\n",
    "N = int(input())\n",
    "for i in range(1, N + 1):\n",
    "    if int(input()) == 0:\n",
    "        su += 1\n",
    "    print(su)"
   ]
  },
  {
   "cell_type": "code",
   "execution_count": 126,
   "metadata": {},
   "outputs": [
    {
     "name": "stdout",
     "output_type": "stream",
     "text": [
      "5\n",
      "1\n",
      "12\n",
      "123\n",
      "1234\n",
      "12345\n"
     ]
    }
   ],
   "source": [
    "#По данному натуральному n ≤ 9 выведите лесенку из n ступенек, \n",
    "#i-я ступенька состоит из чисел от 1 до i без пробелов.\n",
    "\n",
    "n = int(input())\n",
    "for i in range(1, n+1):\n",
    "    for k in range(2,i+1):\n",
    "        print(k-1, sep=\"\",end=\"\")\n",
    "    print(i)\n",
    "    \n",
    "    \n",
    "\n",
    "#а это более правильное решение\n",
    "#n = int(input())\n",
    "#for i in range(1, n + 1):\n",
    "#    for j in range(1, i + 1):\n",
    "#        print(j, sep=\"\", end=\"\")\n",
    "#    print() #- перенос строчки"
   ]
  },
  {
   "cell_type": "code",
   "execution_count": 117,
   "metadata": {},
   "outputs": [
    {
     "name": "stdout",
     "output_type": "stream",
     "text": [
      "5\n",
      "1\n",
      "12\n",
      "123\n",
      "1234\n",
      "12345\n"
     ]
    }
   ],
   "source": []
  },
  {
   "cell_type": "code",
   "execution_count": 112,
   "metadata": {},
   "outputs": [
    {
     "name": "stdout",
     "output_type": "stream",
     "text": [
      "3\n",
      "\n",
      "\n",
      "\n"
     ]
    }
   ],
   "source": [
    "n = int(input())\n",
    "for i in range(1, n+1):\n",
    "    print()"
   ]
  },
  {
   "cell_type": "code",
   "execution_count": 133,
   "metadata": {},
   "outputs": [
    {
     "name": "stdout",
     "output_type": "stream",
     "text": [
      "5\n",
      "3\n",
      "5\n",
      "2\n",
      "1\n",
      "4\n"
     ]
    }
   ],
   "source": [
    "#Для настольной игры используются карточки с номерами от 1 до N. Одна карточка потерялась. \n",
    "#Найдите ее, зная номера оставшихся карточек. Дано число N, далее N − 1 номер оставшихся карточек \n",
    "#(различные числа от 1 до N). Программа должна вывести номер потерянной карточки.\n",
    "\n",
    "su = 0\n",
    "su2 = 0\n",
    "N = int(input())\n",
    "\n",
    "for k in range(N+1):\n",
    "    su += k\n",
    "    \n",
    "for i in range(1, N):\n",
    "    cards = int(input())\n",
    "    su2 += cards\n",
    "\n",
    "print(\"ответ:\", su-su2)\n",
    "\n",
    "    \n",
    "    \n",
    "    \n",
    "#N=5\n",
    "\n",
    "#3\n",
    "#5\n",
    "#2\n",
    "#1\n",
    "\n",
    "#res - 4"
   ]
  },
  {
   "cell_type": "code",
   "execution_count": null,
   "metadata": {},
   "outputs": [],
   "source": []
  },
  {
   "cell_type": "code",
   "execution_count": null,
   "metadata": {},
   "outputs": [],
   "source": []
  }
 ],
 "metadata": {
  "kernelspec": {
   "display_name": "Python 3",
   "language": "python",
   "name": "python3"
  },
  "language_info": {
   "codemirror_mode": {
    "name": "ipython",
    "version": 3
   },
   "file_extension": ".py",
   "mimetype": "text/x-python",
   "name": "python",
   "nbconvert_exporter": "python",
   "pygments_lexer": "ipython3",
   "version": "3.7.6"
  }
 },
 "nbformat": 4,
 "nbformat_minor": 4
}
