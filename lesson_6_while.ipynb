{
 "cells": [
  {
   "cell_type": "code",
   "execution_count": 5,
   "metadata": {},
   "outputs": [
    {
     "name": "stdout",
     "output_type": "stream",
     "text": [
      "10\n",
      "1\n",
      "4\n",
      "9\n"
     ]
    }
   ],
   "source": [
    "#По данному целому числу N распечатайте все квадраты натуральных чисел, не превосходящие N, в порядке возрастания.\n",
    "\n",
    "N = int(input())\n",
    "\n",
    "i = 1\n",
    "while (i**2 <= N):\n",
    "    print(i**2)\n",
    "    i +=1"
   ]
  },
  {
   "cell_type": "code",
   "execution_count": 7,
   "metadata": {},
   "outputs": [
    {
     "name": "stdout",
     "output_type": "stream",
     "text": [
      "5\n"
     ]
    }
   ],
   "source": [
    "#Дано целое число, не меньшее 2. Выведите его наименьший натуральный делитель, отличный от 1.\n",
    "\n",
    "N = int(input())\n",
    "i = 2\n",
    "\n",
    "while N % i == 0:\n",
    "    print(i)\n",
    "    i += 1\n"
   ]
  },
  {
   "cell_type": "code",
   "execution_count": 14,
   "metadata": {},
   "outputs": [
    {
     "name": "stdout",
     "output_type": "stream",
     "text": [
      "100\n",
      "2\n"
     ]
    }
   ],
   "source": [
    "#Дано целое число, не меньшее 2. Выведите его наименьший натуральный делитель, отличный от 1.\n",
    "\n",
    "N = int(input())\n",
    "for i in range(2, N+1):\n",
    "    if N % i == 0:\n",
    "        print(i)\n",
    "        break\n",
    "    else:\n",
    "        i += 1\n"
   ]
  },
  {
   "cell_type": "code",
   "execution_count": 17,
   "metadata": {},
   "outputs": [
    {
     "name": "stdout",
     "output_type": "stream",
     "text": [
      "100\n",
      "7 64\n"
     ]
    }
   ],
   "source": [
    "# По данному натуральному числу N найдите наибольшую целую степень двойки, не превосходящую N. \n",
    "# Выведите показатель степени и саму степень.\n",
    "# Операцией возведения в степень пользоваться нельзя!\n",
    "\n",
    "N = int(input())\n",
    "for i in range(N):\n",
    "    if 2 ** i >= N:\n",
    "        print(i, 2**(i-1))\n",
    "        break"
   ]
  },
  {
   "cell_type": "code",
   "execution_count": null,
   "metadata": {},
   "outputs": [],
   "source": [
    "N = int(input())\n",
    "for i in range(N):\n",
    "    "
   ]
  },
  {
   "cell_type": "code",
   "execution_count": 18,
   "metadata": {},
   "outputs": [
    {
     "name": "stdout",
     "output_type": "stream",
     "text": [
      "10\n",
      "1024 40\n"
     ]
    }
   ],
   "source": [
    "k=int(input())\n",
    "r = 2**k\n",
    "f = 2*(2*k)\n",
    "\n",
    "print(r, f)"
   ]
  },
  {
   "cell_type": "code",
   "execution_count": 33,
   "metadata": {},
   "outputs": [
    {
     "name": "stdout",
     "output_type": "stream",
     "text": [
      "10\n",
      "1 16\n"
     ]
    }
   ],
   "source": [
    "N = int(input())\n",
    "k = 2\n",
    "while k <= N:\n",
    "    for i in range(1, N+1):\n",
    "        k *= 2\n",
    "        break\n",
    "else:\n",
    "    print(i, k)\n",
    "    "
   ]
  },
  {
   "cell_type": "code",
   "execution_count": 36,
   "metadata": {},
   "outputs": [
    {
     "name": "stdout",
     "output_type": "stream",
     "text": [
      "100\n",
      "6 64\n"
     ]
    }
   ],
   "source": [
    "N = int(input())\n",
    "k = 2    \n",
    "for i in range(1, N+1):\n",
    "    k *= 2\n",
    "    if k*2 >= N:\n",
    "        print(i+1, k)\n",
    "        break"
   ]
  },
  {
   "cell_type": "code",
   "execution_count": 37,
   "metadata": {},
   "outputs": [
    {
     "data": {
      "text/plain": [
       "64"
      ]
     },
     "execution_count": 37,
     "metadata": {},
     "output_type": "execute_result"
    }
   ],
   "source": []
  },
  {
   "cell_type": "code",
   "execution_count": 6,
   "metadata": {},
   "outputs": [
    {
     "name": "stdout",
     "output_type": "stream",
     "text": [
      "2\n",
      "2 1\n"
     ]
    }
   ],
   "source": [
    "#По данному натуральному числу N найдите наибольшую целую степень двойки, не превосходящую N. \n",
    "#Выведите показатель степени и саму степень.\n",
    "\n",
    "#Операцией возведения в степень пользоваться нельзя!\n",
    "\n",
    "k = 2\n",
    "N = int(input())\n",
    "\n",
    "if N < 2:\n",
    "    print(1,0)\n",
    "else:    \n",
    "    for i in range(N):\n",
    "        k *= 2\n",
    "        if k >= N:\n",
    "            print(int(k/2), i+1)\n",
    "            break\n",
    "            \n",
    "            \n",
    "# а так правильно:\n",
    "\n",
    "n = int(input())\n",
    "two_in_power = 2\n",
    "power = 1\n",
    "while two_in_power <= n:\n",
    "    two_in_power *= 2\n",
    "    power += 1\n",
    "print(power - 1, two_in_power // 2)\n",
    "\n",
    "    "
   ]
  },
  {
   "cell_type": "code",
   "execution_count": 17,
   "metadata": {},
   "outputs": [
    {
     "name": "stdout",
     "output_type": "stream",
     "text": [
      "10\n",
      "20\n",
      "day 1 10\n",
      "day 2 11.0\n",
      "day 3 12.1\n",
      "day 4 13.309999999999999\n",
      "day 5 14.640999999999998\n",
      "day 6 16.105099999999997\n",
      "day 7 17.715609999999998\n",
      "day 8 19.487170999999996\n",
      "day 9 21.435888099999996\n",
      "9\n"
     ]
    }
   ],
   "source": [
    "#В первый день спортсмен пробежал x километров, а затем он каждый день увеличивал пробег \n",
    "#на 10% от предыдущего значения. По данному числу y определите номер дня, на который пробег спортсмена \n",
    "#составит не менее y километров.\n",
    "\n",
    "#Программа получает на вход действительные числа x и y и должна вывести одно натуральное число.\n",
    "\n",
    "\n",
    "\n",
    "x = int(input())\n",
    "y = int(input())\n",
    "\n",
    "for i in range(1,y+1):\n",
    "    print(\"day\", i, x)\n",
    "    if x <= y:\n",
    "        x = x + (x * 0.1)\n",
    "    else:\n",
    "        print(i)\n",
    "        break\n",
    "\n"
   ]
  },
  {
   "cell_type": "code",
   "execution_count": 18,
   "metadata": {},
   "outputs": [
    {
     "name": "stdout",
     "output_type": "stream",
     "text": [
      "10\n",
      "20\n",
      "9\n"
     ]
    }
   ],
   "source": [
    "#краткая и более правильная версия задачи\n",
    "x = int(input())\n",
    "y = int(input())\n",
    "i = 1\n",
    "while x<=y:\n",
    "    x *= 1.1\n",
    "    i += 1\n",
    "else:\n",
    "    print(i)"
   ]
  },
  {
   "cell_type": "code",
   "execution_count": 26,
   "metadata": {},
   "outputs": [
    {
     "name": "stdout",
     "output_type": "stream",
     "text": [
      "1\n",
      "2\n",
      "3\n",
      "0\n",
      "4\n"
     ]
    }
   ],
   "source": [
    "#Программа получает на вход последовательность целых неотрицательных чисел, \n",
    "#каждое число записано в отдельной строке. Последовательность завершается числом 0, при считывании \n",
    "#которого программа должна закончить свою работу и вывести количество членов последовательности \n",
    "#(не считая завершающего числа 0). Числа, следующие за числом 0, считывать не нужно.\n",
    "\n",
    "k = 1\n",
    "i = 0\n",
    "while k != 0:\n",
    "    k = int(input())\n",
    "    i += 1 \n",
    "print(i-1)"
   ]
  },
  {
   "cell_type": "code",
   "execution_count": 27,
   "metadata": {},
   "outputs": [
    {
     "name": "stdout",
     "output_type": "stream",
     "text": [
      "1\n",
      "0\n",
      "1\n"
     ]
    }
   ],
   "source": [
    "#Определите сумму всех элементов последовательности, завершающейся числом 0. \n",
    "#В этой и во всех следующих задачах числа, следующие за первым нулем, учитывать не нужно.\n",
    "\n",
    "k = 1\n",
    "i = 0\n",
    "while k != 0:\n",
    "    k = int(input())\n",
    "    i += k \n",
    "print(i)\n"
   ]
  },
  {
   "cell_type": "code",
   "execution_count": 28,
   "metadata": {},
   "outputs": [
    {
     "name": "stdout",
     "output_type": "stream",
     "text": [
      "1\n",
      "2\n",
      "3\n",
      "0\n",
      "6 4 1.5\n"
     ]
    }
   ],
   "source": [
    "#Определите среднее значение всех элементов последовательности, завершающейся числом 0.\n",
    "\n",
    "k = 1\n",
    "i = 0\n",
    "r = -1\n",
    "while k != 0:\n",
    "    k = int(input())\n",
    "    i += k\n",
    "    r += 1\n",
    "print(i, r, i/r)"
   ]
  },
  {
   "cell_type": "code",
   "execution_count": 29,
   "metadata": {},
   "outputs": [
    {
     "name": "stdout",
     "output_type": "stream",
     "text": [
      "1\n",
      "2\n",
      "3\n",
      "0\n",
      "3\n"
     ]
    }
   ],
   "source": [
    "#Последовательность состоит из натуральных чисел и завершается числом 0. \n",
    "#Определите значение наибольшего элемента последовательности.\n",
    "\n",
    "k = 1\n",
    "i = 0\n",
    "while k != 0:\n",
    "    k = int(input())\n",
    "    if k >= i:\n",
    "        i = k\n",
    "print(i)\n"
   ]
  },
  {
   "cell_type": "code",
   "execution_count": 34,
   "metadata": {},
   "outputs": [
    {
     "name": "stdout",
     "output_type": "stream",
     "text": [
      "3\n",
      "2\n",
      "1\n",
      "0\n",
      "3 0\n"
     ]
    }
   ],
   "source": [
    "#Последовательность состоит из натуральных чисел и завершается числом 0. \n",
    "#Определите индекс наибольшего элемента последовательности. \n",
    "#Если наибольших элементов несколько, выведите индекс первого из них. Нумерация элементов начинается с нуля.\n",
    "\n",
    "k = 1\n",
    "i = 0\n",
    "r = -1\n",
    "while k != 0:\n",
    "    k = int(input())\n",
    "    r +=1\n",
    "    if k > i:\n",
    "        i = k\n",
    "        f = r\n",
    "print(i, f)"
   ]
  },
  {
   "cell_type": "code",
   "execution_count": 35,
   "metadata": {},
   "outputs": [
    {
     "name": "stdout",
     "output_type": "stream",
     "text": [
      "2\n",
      "1\n",
      "3\n",
      "0\n",
      "1\n"
     ]
    }
   ],
   "source": [
    "#Определите количество четных элементов в последовательности, завершающейся числом 0.\n",
    "\n",
    "k = 1\n",
    "num = -1\n",
    "while k != 0:\n",
    "    k = int(input())\n",
    "    if k % 2 == 0:\n",
    "        num += 1\n",
    "print(num)"
   ]
  },
  {
   "cell_type": "code",
   "execution_count": 36,
   "metadata": {},
   "outputs": [
    {
     "name": "stdout",
     "output_type": "stream",
     "text": [
      "1\n",
      "2\n",
      "3\n",
      "0\n",
      "2\n"
     ]
    }
   ],
   "source": [
    "#Последовательность состоит из натуральных чисел и завершается числом 0. \n",
    "#Определите, сколько элементов этой последовательности больше предыдущего элемента.\n",
    "\n",
    "k = 1\n",
    "r = 0\n",
    "num_big = -1\n",
    "while k != 0:\n",
    "    k = int(input())\n",
    "    if k > r:\n",
    "        num_big += 1\n",
    "    r = k\n",
    "print(num_big)"
   ]
  },
  {
   "cell_type": "code",
   "execution_count": 44,
   "metadata": {},
   "outputs": [
    {
     "name": "stdout",
     "output_type": "stream",
     "text": [
      "1\n",
      "2\n",
      "3\n",
      "4\n",
      "5\n",
      "0\n",
      "s_max= 4 f_max= 5\n"
     ]
    }
   ],
   "source": [
    "#Последовательность состоит из различных натуральных чисел и завершается числом 0. \n",
    "#Определите значение второго по величине элемента в этой последовательности. \n",
    "#Гарантируется, что в последовательности есть хотя бы два элемента.\n",
    "\n",
    "f_max = int(input())\n",
    "s_max = int(input())\n",
    "if s_max > f_max:\n",
    "    f_max, s_max = s_max, f_max\n",
    "new = int(input())\n",
    "while new != 0:\n",
    "    if new > f_max:\n",
    "        s_max, f_max = f_max, new\n",
    "    elif new > s_max:\n",
    "        s_max = new\n",
    "    new = int(input())\n",
    "print(\"s_max=\", s_max, \"f_max=\", f_max)\n",
    "        "
   ]
  },
  {
   "cell_type": "code",
   "execution_count": 47,
   "metadata": {},
   "outputs": [
    {
     "name": "stdout",
     "output_type": "stream",
     "text": [
      "1\n",
      "2\n",
      "2\n",
      "3\n",
      "4\n",
      "4\n",
      "4\n",
      "0\n",
      "3\n"
     ]
    }
   ],
   "source": [
    "#Последовательность состоит из натуральных чисел и завершается числом 0. \n",
    "#Определите, сколько элементов этой последовательности равны ее наибольшему элементу.\n",
    "\n",
    "num_max = 0\n",
    "new = -1\n",
    "f_max = 0 \n",
    "while new != 0:\n",
    "    new = int(input())\n",
    "    if new > f_max:\n",
    "        f_max = new\n",
    "        num_max = 0\n",
    "    if new == f_max:\n",
    "        num_max +=1\n",
    "print(num_max)"
   ]
  },
  {
   "cell_type": "code",
   "execution_count": 60,
   "metadata": {},
   "outputs": [
    {
     "name": "stdout",
     "output_type": "stream",
     "text": [
      "6\n",
      "9\n"
     ]
    }
   ],
   "source": [
    "#Последовательность Фибоначчи определяется так:\n",
    "#φ0 = 0,  φ1 = 1,  φn = φn−1 + φn−2.\n",
    "#По данному числу n определите n-е число Фибоначчи φn.\n",
    "\n",
    "#Эту задачу можно решать и циклом for.\n",
    "fib = 0\n",
    "f1 = 0\n",
    "f2 = 0\n",
    "n = int(input())\n",
    "if n == 0:\n",
    "    fib = 0\n",
    "elif n == 1:\n",
    "    fib = 1\n",
    "else:\n",
    "    for i in range(1,n):\n",
    "        if i == n-2:\n",
    "            f2 = i\n",
    "        if i == n-1:\n",
    "            f1 = i\n",
    "    fib = f1+f2\n",
    "print(fib)"
   ]
  },
  {
   "cell_type": "code",
   "execution_count": 96,
   "metadata": {},
   "outputs": [
    {
     "name": "stdout",
     "output_type": "stream",
     "text": [
      "6\n",
      "6 8\n"
     ]
    }
   ],
   "source": [
    "fn=0\n",
    "\n",
    "f0=0\n",
    "f1=1\n",
    "n=int(input())\n",
    "\n",
    "if n == 0:\n",
    "    print(f0)\n",
    "elif n ==1:\n",
    "    print(f1)\n",
    "else:    \n",
    "    for i in range(2,n+1):\n",
    "        fn=f0+f1\n",
    "        f0,f1 = f1,f0\n",
    "        f1 = fn\n",
    "    print(i, fn)"
   ]
  },
  {
   "cell_type": "code",
   "execution_count": 93,
   "metadata": {},
   "outputs": [
    {
     "name": "stdout",
     "output_type": "stream",
     "text": [
      "8\n",
      "1 1 1\n",
      "1 2 2\n",
      "2 3 3\n",
      "3 5 5\n",
      "5 8 8\n",
      "8 13 13\n",
      "13 21 21\n"
     ]
    }
   ],
   "source": [
    "#Дано натуральное число A. Определите, каким по счету числом Фибоначчи оно является, \n",
    "#то есть выведите такое число n, что φn = A. Если А не является числом Фибоначчи, выведите число -1.\n",
    "fn=0\n",
    "f0=0\n",
    "f1=1\n",
    "k=0\n",
    "n=int(input())\n",
    "for i in range(2,n+1):\n",
    "    fn=f0+f1\n",
    "    f0,f1 = f1,f0\n",
    "    f1 = fn\n",
    "    if fn == n:\n",
    "        k = i\n",
    "if k > 0:\n",
    "    print(k)\n",
    "else:\n",
    "    print(\"-1\")"
   ]
  },
  {
   "cell_type": "code",
   "execution_count": 104,
   "metadata": {},
   "outputs": [
    {
     "name": "stdout",
     "output_type": "stream",
     "text": [
      "3\n",
      "2 1\n",
      "3 2\n",
      "4 3\n",
      "4\n"
     ]
    }
   ],
   "source": [
    "fn=0\n",
    "\n",
    "f0=0\n",
    "f1=1\n",
    "k=0\n",
    "n=int(input())\n",
    "for i in range(2,n+2):\n",
    "    fn=f0+f1\n",
    "    f0,f1 = f1,f0\n",
    "    f1 = fn\n",
    "    print(i, fn)\n",
    "    if fn == n:\n",
    "        k = i\n",
    "        break\n",
    "if k > 0:\n",
    "    print(k)\n",
    "else:\n",
    "    print(\"-1\")"
   ]
  },
  {
   "cell_type": "code",
   "execution_count": 121,
   "metadata": {},
   "outputs": [
    {
     "name": "stdout",
     "output_type": "stream",
     "text": [
      "9\n",
      "2 1\n",
      "3 2\n",
      "4 3\n",
      "5 5\n",
      "6 8\n",
      "7 13\n",
      "-1\n"
     ]
    }
   ],
   "source": [
    "fn=0\n",
    "f0=0\n",
    "f1=1\n",
    "k=1\n",
    "n=int(input())\n",
    "if n == 0:\n",
    "    print(\"0\")\n",
    "elif n == 1:\n",
    "    print(\"1\")\n",
    "else:\n",
    "    while fn != n and fn < n+1:\n",
    "        fn = f0+f1\n",
    "        f0,f1 = f1,f0\n",
    "        f1 = fn\n",
    "        k += 1\n",
    "        print(k, fn)\n",
    "    if fn > n:\n",
    "        print(\"-1\")\n",
    "    else:\n",
    "        print(k)"
   ]
  },
  {
   "cell_type": "code",
   "execution_count": null,
   "metadata": {},
   "outputs": [],
   "source": [
    "a = int(input())\n",
    "if a == 0:\n",
    "    print(0)\n",
    "else:\n",
    "    fib_prev, fib_next = 0, 1\n",
    "    n = 1\n",
    "    while fib_next <= a:\n",
    "        if fib_next == a:\n",
    "            print(n)\n",
    "            break\n",
    "        fib_prev, fib_next = fib_next, fib_prev + fib_next\n",
    "        n += 1\n",
    "    else:\n",
    "        print(-1)"
   ]
  },
  {
   "cell_type": "code",
   "execution_count": 4,
   "metadata": {},
   "outputs": [
    {
     "name": "stdout",
     "output_type": "stream",
     "text": [
      "1\n",
      "7\n",
      "7\n"
     ]
    },
    {
     "ename": "KeyboardInterrupt",
     "evalue": "",
     "output_type": "error",
     "traceback": [
      "\u001b[0;31m---------------------------------------------------------------------------\u001b[0m",
      "\u001b[0;31mKeyboardInterrupt\u001b[0m                         Traceback (most recent call last)",
      "\u001b[0;32m<ipython-input-4-cfe362e96ecb>\u001b[0m in \u001b[0;36m<module>\u001b[0;34m\u001b[0m\n\u001b[1;32m     10\u001b[0m     \u001b[0mnew\u001b[0m \u001b[0;34m=\u001b[0m \u001b[0mint\u001b[0m\u001b[0;34m(\u001b[0m\u001b[0minput\u001b[0m\u001b[0;34m(\u001b[0m\u001b[0;34m)\u001b[0m\u001b[0;34m)\u001b[0m\u001b[0;34m\u001b[0m\u001b[0;34m\u001b[0m\u001b[0m\n\u001b[1;32m     11\u001b[0m     \u001b[0;32mwhile\u001b[0m \u001b[0mnew\u001b[0m \u001b[0;34m==\u001b[0m \u001b[0mold\u001b[0m\u001b[0;34m:\u001b[0m\u001b[0;34m\u001b[0m\u001b[0;34m\u001b[0m\u001b[0m\n\u001b[0;32m---> 12\u001b[0;31m         \u001b[0mrep\u001b[0m \u001b[0;34m+=\u001b[0m\u001b[0;36m1\u001b[0m\u001b[0;34m\u001b[0m\u001b[0;34m\u001b[0m\u001b[0m\n\u001b[0m\u001b[1;32m     13\u001b[0m     \u001b[0;32melse\u001b[0m\u001b[0;34m:\u001b[0m\u001b[0;34m\u001b[0m\u001b[0;34m\u001b[0m\u001b[0m\n\u001b[1;32m     14\u001b[0m         \u001b[0;32mif\u001b[0m \u001b[0mrep\u001b[0m \u001b[0;34m>=\u001b[0m \u001b[0mrep1\u001b[0m\u001b[0;34m:\u001b[0m\u001b[0;34m\u001b[0m\u001b[0;34m\u001b[0m\u001b[0m\n",
      "\u001b[0;31mKeyboardInterrupt\u001b[0m: "
     ]
    }
   ],
   "source": [
    "#Дана последовательность натуральных чисел, завершающаяся числом 0. \n",
    "#Определите, какое наибольшее число подряд идущих элементов этой последовательности равны друг другу.\n",
    "\n",
    "new=-1\n",
    "old=-2\n",
    "rep=1\n",
    "rep1=1\n",
    "\n",
    "while new != 0:\n",
    "    while new == old:\n",
    "        new = int(input())\n",
    "        rep +=1\n",
    "    else:\n",
    "        if rep >= rep1:\n",
    "            rep1,rep = rep, 1\n",
    "    old = new\n",
    "if rep > rep1:\n",
    "    print(rep)\n",
    "else:\n",
    "    print(rep1)"
   ]
  },
  {
   "cell_type": "code",
   "execution_count": 11,
   "metadata": {},
   "outputs": [
    {
     "name": "stdout",
     "output_type": "stream",
     "text": [
      "1\n",
      "2\n",
      "3\n",
      "0\n",
      "1\n"
     ]
    }
   ],
   "source": [
    "#Дана последовательность натуральных чисел, завершающаяся числом 0. \n",
    "#Определите, какое наибольшее число подряд идущих элементов этой последовательности равны друг другу.\n",
    "\n",
    "new = -1\n",
    "old = int(input())\n",
    "num1 = 1\n",
    "num2 = 1\n",
    "\n",
    "while new != 0:\n",
    "    new = int(input())\n",
    "    if old == new:\n",
    "        num1 += 1\n",
    "    else:\n",
    "        if num1 >= num2:\n",
    "            num1, num2 = 1, num1\n",
    "        else:\n",
    "            num1 = 1\n",
    "    old = new          \n",
    "if num1 > num2:\n",
    "    print(num1)\n",
    "else:\n",
    "    print(num2)    \n",
    "    "
   ]
  },
  {
   "cell_type": "code",
   "execution_count": 16,
   "metadata": {},
   "outputs": [
    {
     "name": "stdout",
     "output_type": "stream",
     "text": [
      "1\n",
      "2\n",
      "3\n",
      "0\n",
      "4 6\n"
     ]
    }
   ],
   "source": [
    "\n",
    "\n",
    "elem = 1\n",
    "n = 0\n",
    "summ = 0\n",
    "s = 0\n",
    "\n",
    "while elem != 0:\n",
    "    elem = int(input())\n",
    "    n += 1\n",
    "    summ = summ + elem\n",
    "\n",
    "s = summ / (n-1)    \n",
    "print(n, summ, s)\n",
    "    \n",
    "for i in range(n):\n",
    "    \n",
    "    "
   ]
  },
  {
   "cell_type": "code",
   "execution_count": null,
   "metadata": {},
   "outputs": [],
   "source": [
    "#Дана последовательность натуральных чисел x1, x2, ..., xn. Стандартным отклонением называется величина\n",
    "#σ=√(x1−s)2+(x2−s)2+…+(xn−s)2 / n−1\n",
    "#где s=x1+x2+…+xnn — среднее арифметическое последовательности.\n",
    "#Определите стандартное отклонение для данной последовательности натуральных чисел, завершающейся числом 0.\n",
    "\n",
    "from math import sqrt\n",
    " \n",
    "partial_sum = 0\n",
    "partial_sum_squares = 0\n",
    "x_i = int(input())\n",
    "n = 0\n",
    "while x_i != 0:\n",
    "    n += 1\n",
    "    partial_sum += x_i\n",
    "    partial_sum_squares += x_i ** 2\n",
    "    x_i = int(input())\n",
    "print(sqrt((partial_sum_squares - partial_sum ** 2 / n) / (n - 1)))"
   ]
  }
 ],
 "metadata": {
  "kernelspec": {
   "display_name": "Python 3",
   "language": "python",
   "name": "python3"
  },
  "language_info": {
   "codemirror_mode": {
    "name": "ipython",
    "version": 3
   },
   "file_extension": ".py",
   "mimetype": "text/x-python",
   "name": "python",
   "nbconvert_exporter": "python",
   "pygments_lexer": "ipython3",
   "version": "3.7.7"
  }
 },
 "nbformat": 4,
 "nbformat_minor": 4
}
